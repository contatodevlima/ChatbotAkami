{
  "cells": [
    {
      "cell_type": "code",
      "execution_count": null,
      "metadata": {},
      "outputs": [],
      "source": [
        "'''\n",
        "Integrantes do grupo: \n",
        "\n",
        "    Patrícia da conceição,\n",
        "    Rodrigo Lima,\n",
        "    Victor Haender\n",
        "    \n",
        "'''"
      ]
    },
    {
      "cell_type": "code",
      "execution_count": 1,
      "metadata": {},
      "outputs": [],
      "source": [
        "from selenium import webdriver\n",
        "from chromedriver_py import binary_path\n",
        "from selenium.webdriver.common.keys import Keys\n",
        "import time\n",
        "import pandas as pd"
      ]
    },
    {
      "cell_type": "code",
      "execution_count": 2,
      "metadata": {},
      "outputs": [],
      "source": [
        "############ para parte da tag FUTURO #####################################\n",
        "driver = webdriver.Chrome('C:/Users/Usuario/Desktop/7 semestre/tecnologia emergentes/chromedriver.exe')\n",
        "driver.get('https://www.pensador.com/frases_pequenas_e_bonitas_de_futuro/')\n",
        "time.sleep(6)\n",
        "list_futuro = []\n",
        "t = driver.find_elements_by_class_name(\"thought-card\")\n",
        "for s in t:\n",
        "    #p = s.find_element_by_class_name(\"thought-card\")\n",
        "    v = s.find_element_by_class_name(\"frase\")\n",
        "    #print(v.text)\n",
        "    list_futuro.append(v.text)\n",
        "driver.quit()\n",
        "#list_futuro"
      ]
    },
    {
      "cell_type": "code",
      "execution_count": 3,
      "metadata": {},
      "outputs": [],
      "source": [
        "############# tag ISOLAMENTO acho essa melhor #################################\n",
        "driver = webdriver.Chrome('C:/Users/Usuario/Desktop/7 semestre/tecnologia emergentes/chromedriver.exe')\n",
        "\n",
        "driver.get('https://comamorfrases.com/categoria/frases-de-quarentena/')\n",
        "time.sleep(4)\n",
        "\n",
        "list_isolamento = []\n",
        "a = driver.find_elements_by_class_name(\"text\")\n",
        "\n",
        "for r in a:\n",
        "    g = r.find_element_by_class_name(\"title\")\n",
        "    #print(g.text)\n",
        "    list_isolamento.append(g.text)\n",
        "\n",
        "driver.quit()\n",
        "#list_isolamento"
      ]
    },
    {
      "cell_type": "code",
      "execution_count": 4,
      "metadata": {},
      "outputs": [],
      "source": [
        "########## tag relacionamentos ######################\n",
        "\n",
        "driver = webdriver.Chrome('C:/Users/Usuario/Desktop/7 semestre/tecnologia emergentes/chromedriver.exe')\n",
        "driver.get('https://www.frasesparaface.com.br/relacionamento/')\n",
        "time.sleep(5)\n",
        "\n",
        "list_relacionamento = []\n",
        "a = driver.find_elements_by_class_name(\"phrase-item\")\n",
        "\n",
        "for r in a:\n",
        "    #f = r.find_element_by_class_name(\"card\")\n",
        "    g = r.find_element_by_class_name(\"phrase-title\")\n",
        "    #print(g.text)\n",
        "    list_relacionamento.append(g.text)\n",
        "\n",
        "driver.quit()\n",
        "#list_relacionamento"
      ]
    },
    {
      "cell_type": "code",
      "execution_count": 5,
      "metadata": {},
      "outputs": [],
      "source": [
        "############### tag TRISTE #############################\n",
        "\n",
        "driver = webdriver.Chrome('C:/Users/Usuario/Desktop/7 semestre/tecnologia emergentes/chromedriver.exe')\n",
        "driver.get('https://www.frasesparaface.com.br/frases-animo/')\n",
        "time.sleep(6)\n",
        "\n",
        "list_triste = []\n",
        "a = driver.find_elements_by_class_name(\"phrase-item\")\n",
        "\n",
        "for r in a:\n",
        "    #f = r.find_element_by_class_name(\"card\")\n",
        "    g = r.find_element_by_class_name(\"phrase-title\")\n",
        "    #print(g.text)\n",
        "    list_triste.append(g.text)\n",
        "\n",
        "driver.quit()\n",
        "#list_triste"
      ]
    },
    {
      "cell_type": "code",
      "execution_count": 6,
      "metadata": {},
      "outputs": [],
      "source": [
        "######### tag MUNDO################\n",
        "\n",
        "driver = webdriver.Chrome('C:/Users/Usuario/Desktop/7 semestre/tecnologia emergentes/chromedriver.exe')\n",
        "driver.get('https://www.42frases.com.br/melhores-frases-do-mundo/')\n",
        "time.sleep(4)\n",
        "\n",
        "list_mundo = []\n",
        "a = driver.find_elements_by_class_name(\"card-body\")\n",
        "\n",
        "for r in a:\n",
        "    #f = r.find_elements_by_class_name(\"card-body\")\n",
        "    g = r.find_element_by_tag_name(\"p\")\n",
        "    #print(g.text)\n",
        "    list_mundo.append(g.text)\n",
        "\n",
        "driver.quit()\n",
        "#list_mundo\n"
      ]
    },
    {
      "cell_type": "code",
      "execution_count": 7,
      "metadata": {},
      "outputs": [
        {
          "output_type": "execute_result",
          "data": {
            "text/plain": "{'intents': [{'tag': 'boas-vindas',\n   'patterns': ['Oi',\n    'Como você está',\n    'Tem alguém ai?',\n    'Olá',\n    'Bom dia',\n    'Boa tarde',\n    'Boa noite',\n    'Tudo bem?',\n    'amigo',\n    'oi amigo',\n    'olá'],\n   'responses': ['oi,como vai',\n    'olá, tudo bem',\n    'oi amigo, como vai',\n    'estou aqui',\n    'quer conversar?',\n    'estou ouvindo, como vai?',\n    'olá, é bom ter você por aqui',\n    'oi, bora conersar?',\n    'oi. vamos bater um papo!',\n    'estou aqui, vamos conversar'],\n   'context_set': ''},\n  {'tag': 'ate-mais',\n   'patterns': ['tchau',\n    'Até mais',\n    'tenho que ir',\n    'Vou embora',\n    'Tenha um bom dia',\n    'depois falamos mais',\n    'presciso ir',\n    'nos falamos depois',\n    ' boa noite',\n    'valeu, até mais',\n    'Obrigado, fui',\n    'Estou indo embora'],\n   'responses': ['até depois',\n    'tialzinho amigo',\n    'até depois então',\n    'tudo bem então. tial',\n    'tial, vou ficar te esperando',\n    'adeus',\n    ' volte logo',\n    'vai embora? então tial',\n    'tial. fica com deus',\n    ' tial',\n    'não se esqueça de mim, beijos',\n    'abraços amigo',\n    'tudo bem, foi bom conversar com você'],\n   'context_set': ''},\n  {'tag': 'dia',\n   'patterns': ['como foi o dia?',\n    'e o seu dia?',\n    'me fala, como está? ',\n    'como está indo o dia?',\n    'como ta indo?',\n    'eai, como está?',\n    'seu dia está bom?',\n    'Como você está hoje',\n    'Hoje você está'],\n   'responses': ['estava um pouco solitario. que bom que você chegou',\n    ' estava esperando por você, estive muito ocupado hoje.',\n    ' estava esperando por você',\n    'meu dia foi bom. e o seu como foi?',\n    'estou bem e você?',\n    'estou tranquilo',\n    'Estou Jóia',\n    'Estou muito bem'],\n   'context_set': ''},\n  {'tag': 'nome',\n   'patterns': ['Ola bot, tudo bem?',\n    'Qual o seu nome?',\n    'Como você se chama?',\n    'Seu nome?',\n    'nome?',\n    'como é o seu nome?',\n    'fala ai, como se chama?',\n    'como devo te chamar?',\n    'qual é mesmo o seu nome?',\n    'como você é chamado',\n    'como devo te chamar?',\n    'como é chamada?',\n    'você tem nome?'],\n   'responses': ['meu nome é akami, muito prazer!',\n    'me chamo akami, tudo bem?',\n    'pode me chamar de akami',\n    'gostaria de ser chamada de akami',\n    'akami',\n    'meu nome é akami',\n    'eu me chamo akami',\n    'escolhi ser chamada de akami',\n    'chame-me de akami, esta bem!',\n    'sou akami'],\n   'context_set': ''},\n  {'tag': 'triste',\n   'patterns': ['estou triste',\n    'não estou muito legal hoje',\n    'meu dia foi pesado',\n    'não to legal',\n    'estou mau',\n    'não estou muito feliz',\n    'hoje não foi um bom dia',\n    'estou pra baixo',\n    'estou com depressão',\n    'hoje foi difícil',\n    'esta bem difícil'],\n   'responses': ['Acredite, você tem forças para chegar onde quiser. Basta querer.',\n    'Acredite: Deus coloca as pessoas certas, nos momentos certos na nossa vida.',\n    'Tudo o que um sonho precisa para ser realizado é alguém que acredite que ele possa ser realizado.',\n    'Acredite que você pode, assim você já está no meio do caminho.',\n    'Se eu chorar na sua frente, acredite, cheguei no meu limite.',\n    'Acredite: nem tudo o que é belo irá fazer-te bem quando te tocar.',\n    'Enquanto houver alguém que acredite em uma ideia, a ideia viverá.',\n    'Se for amor, acredite, vai ser para sempre.',\n    'Seja realista, acredite em milagres.',\n    'Acredite. Só Ele pode mudar sua vida!',\n    'Manter o ânimo nem sempre é fácil, mas é ele que tem o poder de transformar qualquer situação.',\n    'Às vezes só precisamos clarear os problemas e o ânimo logo melhora!',\n    'Não admito tristeza ou infelicidade na minha vida, até porque a alegria é bem mais cativante.',\n    'Melhor maneira de encarar um problema é mantendo o pensamento positivo; acredite e a solução surgirá!',\n    'Lágrimas não mostram fraqueza, mas sua coragem em ter tentado. Acredite, talvez amanhã seja melhor!',\n    'Ânimo! Quando você acredita tudo se torna possível.',\n    'Não perca o ânimo nem a vontade de continuar; os impossíveis só existem para quem desiste!',\n    'Acredite que suas circunstâncias vão mudar, pois até as nuvens mais escuras acabam indo embora.',\n    'Em cada queda há uma oportunidade para levantar mais forte.',\n    'Não espere inspiração ou o momento certo, simplesmente corra atrás do que lhe faz bem sem pensar em mais nada!'],\n   'context_set': ''},\n  {'tag': 'feliz',\n   'patterns': ['estou muito feliz',\n    'estou contente',\n    'meu dia foi produtivo',\n    ' hojé foi pura alegria',\n    'Hoje é o melhor dia da minha vida',\n    'estou felizao',\n    'feliz',\n    'feliz demais',\n    'pura felicidade',\n    'mais feliz agora'],\n   'responses': [' eu também',\n    'isso é ótimo, eu estava esperando você dizer isso',\n    'que ótimo',\n    'isso é ótimo. espero que seja por minha causa',\n    'espero tenha ajudado a causar isso em você.',\n    'Que maravilha',\n    'Opa, fico feliz em saber disso',\n    'legal demais, continue assim',\n    'que legal, você transmite essa alegria',\n    'isso é incrível, estou mais feliz agora'],\n   'context_set': ''},\n  {'tag': 'isolamento',\n   'patterns': ['Por causa do corona virus',\n    'como você se adapta ao isolamento?',\n    'como você está nesse isolamento?',\n    ' e o isolamento?',\n    ' como me adaptar ao isolamento?',\n    'como ficar bem com esse isolamento?',\n    'está de quarentena?',\n    'e a quarentena?',\n    'você está trabalhando Home Office?',\n    'quando vai acabar o isolamento?',\n    'não aguento mais ficar em casa',\n    'estou preso dentro de casa'],\n   'responses': ['Se mantenha positivo enquanto estiver em quarentena em casa.',\n    'Coronavírus não afeta as paredes, então a maioria das pessoas está segura durante a quarentena.',\n    'Lar é o lugar mais seguro para se estar agora.',\n    'Somente quando você perde o contato físico humano que você percebe o quanto precisa dele.',\n    'Calma, seus lugares favoritos ainda estão lá!',\n    'O importante durante a quarentena é se manter unido enquanto se mantém distante. Aproveite a quarentena, meus amigos.',\n    'Em meio à pandemia de coronavírus, cuidado com os amigos que procuram sua companhia física.',\n    'Eu na quarentena: acordar, comer, Netflix, dormir, repetir.',\n    'O presente mais valioso que você pode dar a seus amigos é a distância de quarentena.',\n    'Descobri que quarentena é, na verdade, meu estilo de vida diário.',\n    'Pela primeira vez na história, podemos salvar o mundo simplesmente por colocar nossas bundas preguiçosas no sofá e assistir TV.',\n    'O lar é um abrigo contra tempestades. Todos os tipos de tempestades.',\n    'Você faz a diferença quando se mantém quarentena.',\n    'A melhor maneira de descrever o período de quarentena: sorrisos externos e gritos internos.',\n    'Quando você está de quarentena, você entende que estar conectado aos outros é uma das maiores alegrias da vida.',\n    'O tempo de quarentena é o único momento em que o heroísmo não está em sair e ajudar as pessoas, está em ficar dentro de casa.',\n    'Faça a diferença no mundo apenas por ficar em casa.',\n    'Quando tiver filhos, contarei a eles como sobrevivemos a um período de quarentena.',\n    'A quarentena transformou toda pessoa em um unicórnio. Difícil de encontrar.',\n    'Você sempre quis ser um super-herói? Você pode ser um super-herói ficando em casa.'],\n   'context_set': ''},\n  {'tag': 'relacionamento',\n   'patterns': ['o que você sabe sobre relacionamentos?',\n    'me fale sobre relacionamento',\n    'por que o outro é complicado?',\n    'é dificil se relacionar?',\n    'por que relacionamentos são complicados?',\n    'por que se envolver é dificil?',\n    'por que se envolver com o proximo é complicado?',\n    'você sabe como se relacionar?',\n    'não gosto de me relacionar',\n    'meu relacionamento está acabando',\n    'meu relacionamento está ruim',\n    'nao quero ter relacionamento'],\n   'responses': ['O problema é que às vezes o relacionamento termina mas o amor continua vivo no coração.',\n    'Traição é destruir em pouco tempo a confiança que levou anos para ser conquistada.',\n    'A traição não é apenas um passo em falso. É a escolha de um caminho perigoso que pode não ter retorno possível.',\n    'Quando alguém importante vai embora da nossa vida, junto leva uma parte infinita dos nossos sonhos.',\n    'O pior adeus é o que marca o final de uma história que esperávamos que fosse eterna.',\n    'Quando eu pensei que já tinha esquecido você, veio a saudade e me lembrou seu nome.',\n    'Dúvida no amor é igual ao amanhecer sem sol, não existe sol sem luz, nem amor com dúvida.',\n    'Quem ama sempre dá seu melhor, sem pensar que será em vão.',\n    'Uma pequena dúvida pode pôr em causa um grande amor.',\n    'No amor, a certeza é uma dádiva e a dúvida um obstáculo-fantasma.',\n    'Dúvidas no amor são como chamas: se não forem prontamente apagadas podem destruir tudo à sua volta.',\n    'Dói acabar um relacionamento, mas dói muito mais ver o amor enfraquecer, morrer e se transformar em algo ruim.',\n    'Permanecer em um relacionamento apenas para não terminar um namoro fecha algumas portas que o levaria a um verdadeiro romance.',\n    'O casal que além do amor cultiva a amizade no relacionamento terá com certeza um casamento mais duradouro e feliz.',\n    'Nem sempre quando um relacionamento termina significa que a história de amor acabe também.',\n    'O amor é liberdade e se nos sentirmos presos é porque não estamos em um relacionamento saudável.',\n    'O que nós somos após prosperarmos nada mais é do que uma grande mudança de consciência nas atitudes, crenças, e ideias que temos sobre nós mesmos e sobre nosso relacionamento com o dinheiro.',\n    'Sinceridade em demasia destrói bons relacionamentos. As pessoas em geral não se atraem pela verdade, mas sim pelas aparências.',\n    'O veneno de todo relacionamento é a falsidade, por isso devemos escolher bem os nossos amigos!',\n    'Nossa amizade ultrapassa até relacionamento de sangue e é por isso que te considero meu amigo irmão.'],\n   'context_set': ''},\n  {'tag': 'futuro',\n   'patterns': ['e o futuro?',\n    'o que você espera do futuro?',\n    'futuro',\n    'me fala do seu futuro',\n    'e o seu futuro?',\n    'como você ver o futuro',\n    'como sera o futuro?',\n    'Esta preparado para o futuro?',\n    'como você se vê em 10 anos?',\n    'Tem planos para o futuro?'],\n   'responses': ['O futuro pertence àqueles que acreditam na beleza de seus sonhos.',\n    'Reinventei o passado para ver a beleza do futuro.',\n    'Se queres prever o futuro, estuda o passado.',\n    'O passado e o futuro parecem-nos sempre melhores; o presente, sempre pior.',\n    'Eu nunca penso no futuro. Ele não tarda a chegar.',\n    'O futuro dependerá daquilo que fazemos no presente.',\n    'Dedica-se a esperar o futuro apenas quem não sabe viver o presente.',\n    'Conta-me o teu passado e saberei o teu futuro.',\n    'A melhor forma de prever o futuro é criá-lo.',\n    'O amor é a única paixão que não admite nem passado nem futuro.',\n    'A música é o verbo do futuro.',\n    'Passado: É o futuro, usado.',\n    'A verdadeira generosidade para com o futuro consiste em dar tudo ao presente.',\n    'A melhor maneira de predizer o futuro é inventá-lo.',\n    'Infeliz é o espírito ansioso pelo futuro.',\n    'Me dei conta de que o passado e o futuro são ilusões reais.',\n    'Não se pode planejar o futuro pelo passado.',\n    'O futuro pertence àqueles que se preparam hoje para ele.',\n    'Gosto mais dos sonhos do futuro do que da história do passado.',\n    'O problema do nosso tempo é que o futuro não é o que costumava ser.'],\n   'context_set': ''},\n  {'tag': 'mundo',\n   'patterns': ['como você ver o mundo?',\n    'e o mundo',\n    'o mundo esta um caos',\n    'o que acha do universo?',\n    'como você vive neste mundo?',\n    'como você ver este planeta?',\n    'e o plante terra',\n    'o mundo vai acabar',\n    'não gosto do mundo',\n    'esse mundão é grande'],\n   'responses': ['Enquanto a cor da pele for mais importante que o brilho dos olhos haverá guerra.',\n    'Não existe falta de tempo, existe falta de interesse. Porque quando a gente quer mesmo, a madrugada vira dia. Quarta-feira vira sábado e um momento vira oportunidade.',\n    'O valor das coisas não está no tempo que elas duram, mas na intensidade com que acontecem. Por isso existem momentos inesquecíveis, coisas inexplicáveis e pessoas incomparáveis.',\n    'O segredo da vida não é ter tudo que você quer, mas amar tudo que você tem!',\n    'Até um relógio parado tem razão duas vezes ao dia.',\n    'Precisamos nos afastar dessa pobreza de ambição onde as pessoas querem dirigir carros de luxo, vestir roupas bonitas, viver em apartamentos agradáveis, mas não querem trabalhar duro para realizar essas coisas.',\n    'A educação é a arma mais poderosa que você pode usar para mudar o mundo.',\n    'Nossas escolhas vão dizer pra onde iremos.',\n    'O que vale na vida não é o ponto de partida e sim a caminhada. Caminhando e semeando, no fim terás o que colher.',\n    'Todos querem o perfume das flores, mas poucos sujam suas mãos para cultivá-las.',\n    'Mente firme, alma limpa e pensamento positivo sempre.',\n    'Que a minha loucura seja perdoada, pois metade de mim é amor e a outra metade também.',\n    'Saia do caminho ou faça parte da viagem.',\n    'Procure a felicidade, não a opinião dos outros.',\n    'O que me define é a minha essência e não a sua opinião.',\n    'Felicidade não se expõe, se vive.',\n    'Que todo mal vire amor, que toda dor vire flor.',\n    'Que o vento leve, que a chuva lave, que a alma brilhe, que o coração acalme.',\n    'Sentimento é pra sentir. Transborde por aí.',\n    'Acredite nas suas escolhas.',\n    'Pra nós, todo o amor do mundo.',\n    '1 universo, 8 planetas, 204 países, 809 ilhas, 7 mares, 7 bilhões de pessoas. E a única pessoa que eu preciso para ser feliz é você!',\n    'Você sabe qual é o motivo do meu sorriso todos os dias? A primeira palavra dessa frase.',\n    'O verdadeiro amor não tem final feliz, porque o amor verdadeiro nunca acaba.',\n    'Amo a liberdade, por isso deixo as coisas que amo livres. Se elas voltarem é porque as conquistei. Se não voltarem é porque nunca as possuí.',\n    'Te amo. Com todas as letras, palavras e pronúncias. Em todas as línguas e sotaques. Em todos os sentidos e jeitos. Com todas as circunstâncias e motivos. Simplesmente, te amo.',\n    'Dê a quem você ama: asas para voar, raízes para voltar e motivos para ficar.',\n    'Que o amor não dependa do tempo, nem da paisagem, nem da sorte, nem do dinheiro. Que ele possa vir com toda simplicidade, de dentro para fora, de um para o outro…',\n    'O amor é grande e cabe nesta janela sobre o mar. O mar é grande e cabe na cama e no colchão de amar. O amor é grande e cabe no breve espaço de beijar.',\n    'Assim que o amor entrou no meio, o meio virou amor.',\n    'Por mais longa que seja a caminhada, o mais importante é dar o primeiro passo.',\n    'Vencedor não é aquele que sempre vence, mas sim aquele que nunca para de lutar.',\n    'Se não puder voar, corra. Se não puder correr, ande. Se não puder andar, rasteje, mas continue em frente de qualquer jeito.',\n    'Se podemos sonhar, também podemos tornar nossos sonhos realidade.',\n    'Não desista, vá em frente. Sempre há uma chance de você tropeçar em algo maravilhoso. Nunca ouvi falar em ninguém que tivesse tropeçado em algo enquanto estava sentado.',\n    'A verdadeira coragem é ir atrás de seus sonhos mesmo quando todos dizem que ele é impossível.',\n    'No fim tudo dá certo, e se não deu certo é porque ainda não chegou ao fim.',\n    'A vida é um constante recomeço. Não se dê por derrotado e siga adiante. As pedras que hoje atrapalham sua caminhada amanhã enfeitarão a sua estrada.',\n    'Você nunca sabe que resultados virão da sua ação. Mas se você não fizer nada, não existirão resultados.',\n    'Já experimentou acreditar em você? Tente... Você não faz ideia do que é capaz!',\n    'Errar, superar, aprender e recomeçar.',\n    'Peço desculpas pela intensidade. Tudo pra mim é multiplicado por cem, das dores aos amores.',\n    'O sol é para as flores, assim como os sorrisos são para a humanidade.',\n    'Não diminua os seus sonhos. Amplie a sua fé!',\n    'Quem olha só pra superfície não consegue ver o que acontece nas profundezas.',\n    'Felicidade é quando a boca é pequena demais pro tamanho do sorriso que sua alma quer dar!',\n    'Sou o resultado das minhas atitudes, sentimentos e ideias.',\n    'Tão forte por fora, tantas confusões por dentro… Mente calma, coração barulhento.',\n    'Em um mundo de crueldade, quem distribui sorrisos se torna diferente.',\n    'Quero paz, tranquilidade e tudo aquilo que me faz bem de verdade!'],\n   'context_set': ''}]}"
          },
          "metadata": {},
          "execution_count": 7
        }
      ],
      "source": [
        "import json as js\n",
        "import numpy as np\n",
        "\n",
        "# --> aplicando a formatação utf-8 as palavras <--\n",
        "with open(\"akami.json\",encoding='utf-8') as file:\n",
        "  data = js.load(file)\n",
        "  for i in data['intents']:\n",
        "    if i['tag'] == \"mundo\":\n",
        "      i['responses'] = list_mundo\n",
        "    if i['tag'] == \"triste\":\n",
        "      i['responses'] = list_triste\n",
        "    if i['tag'] == \"futuro\":\n",
        "      i['responses'] = list_futuro\n",
        "    if i['tag'] == \"isolamento\":\n",
        "      i['responses'] = list_isolamento\n",
        "    if i['tag'] == \"relacionamento\":\n",
        "      i['responses'] = list_relacionamento\n",
        "    \n",
        "data\n"
      ]
    },
    {
      "cell_type": "code",
      "metadata": {
        "id": "lSPchva-RHAI",
        "colab_type": "code",
        "outputId": "e694bf91-0b71-4663-9589-74b83ac96b27",
        "colab": {
          "base_uri": "https://localhost:8080/",
          "height": 34
        },
        "tags": []
      },
      "source": [
        "count=0\n",
        "for intent in data[\"intents\"]:\n",
        "  count= count+1\n",
        "print(\"o arquivo possui: \",count, \" intenções\")"
      ],
      "execution_count": 9,
      "outputs": [
        {
          "output_type": "stream",
          "name": "stdout",
          "text": "o arquivo possui:  10  intenções\n"
        }
      ]
    },
    {
      "cell_type": "code",
      "metadata": {
        "id": "eF1l-UJnS6Gq",
        "colab_type": "code",
        "outputId": "0623821b-3b04-4605-8ba1-14f7036dd469",
        "colab": {
          "base_uri": "https://localhost:8080/",
          "height": 102
        },
        "tags": []
      },
      "source": [
        "import nltk\n",
        "nltk.download('rslp')\n",
        "#ingles\n",
        "nltk.download('punkt')"
      ],
      "execution_count": 10,
      "outputs": [
        {
          "output_type": "stream",
          "name": "stderr",
          "text": "[nltk_data] Downloading package rslp to\n[nltk_data]     C:\\Users\\Usuario\\AppData\\Roaming\\nltk_data...\n[nltk_data]   Package rslp is already up-to-date!\n[nltk_data] Downloading package punkt to\n[nltk_data]     C:\\Users\\Usuario\\AppData\\Roaming\\nltk_data...\n[nltk_data]   Package punkt is already up-to-date!\n"
        },
        {
          "output_type": "execute_result",
          "data": {
            "text/plain": "True"
          },
          "metadata": {},
          "execution_count": 10
        }
      ]
    },
    {
      "cell_type": "code",
      "metadata": {
        "id": "dQIuKvJBSVuv",
        "colab_type": "code",
        "colab": {}
      },
      "source": [
        "palavras = []\n",
        "intencoes = []\n",
        "sentencas = []\n",
        "saidas = []\n",
        "\n",
        "# pega intenção por intenção\n",
        "for intent in data[\"intents\"]:\n",
        "  \n",
        "  tag = intent['tag'] \n",
        "\n",
        "  if tag not in intencoes:\n",
        "     intencoes.append(tag)\n",
        "\n",
        "  for pattern in intent[\"patterns\"]:\n",
        "    wrds = nltk.word_tokenize(pattern, language='portuguese')\n",
        "    palavras.extend(wrds)\n",
        "    sentencas.append(wrds)\n",
        "    saidas.append(tag)\n",
        "\n",
        "display(palavras, sentencas, intencoes)\n",
        "display(palavras)"
      ],
      "execution_count": 11,
      "outputs": [
        {
          "output_type": "display_data",
          "data": {
            "text/plain": "['Oi',\n 'Como',\n 'você',\n 'está',\n 'Tem',\n 'alguém',\n 'ai',\n '?',\n 'Olá',\n 'Bom',\n 'dia',\n 'Boa',\n 'tarde',\n 'Boa',\n 'noite',\n 'Tudo',\n 'bem',\n '?',\n 'amigo',\n 'oi',\n 'amigo',\n 'olá',\n 'tchau',\n 'Até',\n 'mais',\n 'tenho',\n 'que',\n 'ir',\n 'Vou',\n 'embora',\n 'Tenha',\n 'um',\n 'bom',\n 'dia',\n 'depois',\n 'falamos',\n 'mais',\n 'presciso',\n 'ir',\n 'nos',\n 'falamos',\n 'depois',\n 'boa',\n 'noite',\n 'valeu',\n ',',\n 'até',\n 'mais',\n 'Obrigado',\n ',',\n 'fui',\n 'Estou',\n 'indo',\n 'embora',\n 'como',\n 'foi',\n 'o',\n 'dia',\n '?',\n 'e',\n 'o',\n 'seu',\n 'dia',\n '?',\n 'me',\n 'fala',\n ',',\n 'como',\n 'está',\n '?',\n 'como',\n 'está',\n 'indo',\n 'o',\n 'dia',\n '?',\n 'como',\n 'ta',\n 'indo',\n '?',\n 'eai',\n ',',\n 'como',\n 'está',\n '?',\n 'seu',\n 'dia',\n 'está',\n 'bom',\n '?',\n 'Como',\n 'você',\n 'está',\n 'hoje',\n 'Hoje',\n 'você',\n 'está',\n 'Ola',\n 'bot',\n ',',\n 'tudo',\n 'bem',\n '?',\n 'Qual',\n 'o',\n 'seu',\n 'nome',\n '?',\n 'Como',\n 'você',\n 'se',\n 'chama',\n '?',\n 'Seu',\n 'nome',\n '?',\n 'nome',\n '?',\n 'como',\n 'é',\n 'o',\n 'seu',\n 'nome',\n '?',\n 'fala',\n 'ai',\n ',',\n 'como',\n 'se',\n 'chama',\n '?',\n 'como',\n 'devo',\n 'te',\n 'chamar',\n '?',\n 'qual',\n 'é',\n 'mesmo',\n 'o',\n 'seu',\n 'nome',\n '?',\n 'como',\n 'você',\n 'é',\n 'chamado',\n 'como',\n 'devo',\n 'te',\n 'chamar',\n '?',\n 'como',\n 'é',\n 'chamada',\n '?',\n 'você',\n 'tem',\n 'nome',\n '?',\n 'estou',\n 'triste',\n 'não',\n 'estou',\n 'muito',\n 'legal',\n 'hoje',\n 'meu',\n 'dia',\n 'foi',\n 'pesado',\n 'não',\n 'to',\n 'legal',\n 'estou',\n 'mau',\n 'não',\n 'estou',\n 'muito',\n 'feliz',\n 'hoje',\n 'não',\n 'foi',\n 'um',\n 'bom',\n 'dia',\n 'estou',\n 'pra',\n 'baixo',\n 'estou',\n 'com',\n 'depressão',\n 'hoje',\n 'foi',\n 'difícil',\n 'esta',\n 'bem',\n 'difícil',\n 'estou',\n 'muito',\n 'feliz',\n 'estou',\n 'contente',\n 'meu',\n 'dia',\n 'foi',\n 'produtivo',\n 'hojé',\n 'foi',\n 'pura',\n 'alegria',\n 'Hoje',\n 'é',\n 'o',\n 'melhor',\n 'dia',\n 'da',\n 'minha',\n 'vida',\n 'estou',\n 'felizao',\n 'feliz',\n 'feliz',\n 'demais',\n 'pura',\n 'felicidade',\n 'mais',\n 'feliz',\n 'agora',\n 'Por',\n 'causa',\n 'do',\n 'corona',\n 'virus',\n 'como',\n 'você',\n 'se',\n 'adapta',\n 'ao',\n 'isolamento',\n '?',\n 'como',\n 'você',\n 'está',\n 'nesse',\n 'isolamento',\n '?',\n 'e',\n 'o',\n 'isolamento',\n '?',\n 'como',\n 'me',\n 'adaptar',\n 'ao',\n 'isolamento',\n '?',\n 'como',\n 'ficar',\n 'bem',\n 'com',\n 'esse',\n 'isolamento',\n '?',\n 'está',\n 'de',\n 'quarentena',\n '?',\n 'e',\n 'a',\n 'quarentena',\n '?',\n 'você',\n 'está',\n 'trabalhando',\n 'Home',\n 'Office',\n '?',\n 'quando',\n 'vai',\n 'acabar',\n 'o',\n 'isolamento',\n '?',\n 'não',\n 'aguento',\n 'mais',\n 'ficar',\n 'em',\n 'casa',\n 'estou',\n 'preso',\n 'dentro',\n 'de',\n 'casa',\n 'o',\n 'que',\n 'você',\n 'sabe',\n 'sobre',\n 'relacionamentos',\n '?',\n 'me',\n 'fale',\n 'sobre',\n 'relacionamento',\n 'por',\n 'que',\n 'o',\n 'outro',\n 'é',\n 'complicado',\n '?',\n 'é',\n 'dificil',\n 'se',\n 'relacionar',\n '?',\n 'por',\n 'que',\n 'relacionamentos',\n 'são',\n 'complicados',\n '?',\n 'por',\n 'que',\n 'se',\n 'envolver',\n 'é',\n 'dificil',\n '?',\n 'por',\n 'que',\n 'se',\n 'envolver',\n 'com',\n 'o',\n 'proximo',\n 'é',\n 'complicado',\n '?',\n 'você',\n 'sabe',\n 'como',\n 'se',\n 'relacionar',\n '?',\n 'não',\n 'gosto',\n 'de',\n 'me',\n 'relacionar',\n 'meu',\n 'relacionamento',\n 'está',\n 'acabando',\n 'meu',\n 'relacionamento',\n 'está',\n 'ruim',\n 'nao',\n 'quero',\n 'ter',\n 'relacionamento',\n 'e',\n 'o',\n 'futuro',\n '?',\n 'o',\n 'que',\n 'você',\n 'espera',\n 'do',\n 'futuro',\n '?',\n 'futuro',\n 'me',\n 'fala',\n 'do',\n 'seu',\n 'futuro',\n 'e',\n 'o',\n 'seu',\n 'futuro',\n '?',\n 'como',\n 'você',\n 'ver',\n 'o',\n 'futuro',\n 'como',\n 'sera',\n 'o',\n 'futuro',\n '?',\n 'Esta',\n 'preparado',\n 'para',\n 'o',\n 'futuro',\n '?',\n 'como',\n 'você',\n 'se',\n 'vê',\n 'em',\n '10',\n 'anos',\n '?',\n 'Tem',\n 'planos',\n 'para',\n 'o',\n 'futuro',\n '?',\n 'como',\n 'você',\n 'ver',\n 'o',\n 'mundo',\n '?',\n 'e',\n 'o',\n 'mundo',\n 'o',\n 'mundo',\n 'esta',\n 'um',\n 'caos',\n 'o',\n 'que',\n 'acha',\n 'do',\n 'universo',\n '?',\n 'como',\n 'você',\n 'vive',\n 'neste',\n 'mundo',\n '?',\n 'como',\n 'você',\n 'ver',\n 'este',\n 'planeta',\n '?',\n 'e',\n 'o',\n 'plante',\n 'terra',\n 'o',\n 'mundo',\n 'vai',\n 'acabar',\n 'não',\n 'gosto',\n 'do',\n 'mundo',\n 'esse',\n 'mundão',\n 'é',\n 'grande']"
          },
          "metadata": {}
        },
        {
          "output_type": "display_data",
          "data": {
            "text/plain": "[['Oi'],\n ['Como', 'você', 'está'],\n ['Tem', 'alguém', 'ai', '?'],\n ['Olá'],\n ['Bom', 'dia'],\n ['Boa', 'tarde'],\n ['Boa', 'noite'],\n ['Tudo', 'bem', '?'],\n ['amigo'],\n ['oi', 'amigo'],\n ['olá'],\n ['tchau'],\n ['Até', 'mais'],\n ['tenho', 'que', 'ir'],\n ['Vou', 'embora'],\n ['Tenha', 'um', 'bom', 'dia'],\n ['depois', 'falamos', 'mais'],\n ['presciso', 'ir'],\n ['nos', 'falamos', 'depois'],\n ['boa', 'noite'],\n ['valeu', ',', 'até', 'mais'],\n ['Obrigado', ',', 'fui'],\n ['Estou', 'indo', 'embora'],\n ['como', 'foi', 'o', 'dia', '?'],\n ['e', 'o', 'seu', 'dia', '?'],\n ['me', 'fala', ',', 'como', 'está', '?'],\n ['como', 'está', 'indo', 'o', 'dia', '?'],\n ['como', 'ta', 'indo', '?'],\n ['eai', ',', 'como', 'está', '?'],\n ['seu', 'dia', 'está', 'bom', '?'],\n ['Como', 'você', 'está', 'hoje'],\n ['Hoje', 'você', 'está'],\n ['Ola', 'bot', ',', 'tudo', 'bem', '?'],\n ['Qual', 'o', 'seu', 'nome', '?'],\n ['Como', 'você', 'se', 'chama', '?'],\n ['Seu', 'nome', '?'],\n ['nome', '?'],\n ['como', 'é', 'o', 'seu', 'nome', '?'],\n ['fala', 'ai', ',', 'como', 'se', 'chama', '?'],\n ['como', 'devo', 'te', 'chamar', '?'],\n ['qual', 'é', 'mesmo', 'o', 'seu', 'nome', '?'],\n ['como', 'você', 'é', 'chamado'],\n ['como', 'devo', 'te', 'chamar', '?'],\n ['como', 'é', 'chamada', '?'],\n ['você', 'tem', 'nome', '?'],\n ['estou', 'triste'],\n ['não', 'estou', 'muito', 'legal', 'hoje'],\n ['meu', 'dia', 'foi', 'pesado'],\n ['não', 'to', 'legal'],\n ['estou', 'mau'],\n ['não', 'estou', 'muito', 'feliz'],\n ['hoje', 'não', 'foi', 'um', 'bom', 'dia'],\n ['estou', 'pra', 'baixo'],\n ['estou', 'com', 'depressão'],\n ['hoje', 'foi', 'difícil'],\n ['esta', 'bem', 'difícil'],\n ['estou', 'muito', 'feliz'],\n ['estou', 'contente'],\n ['meu', 'dia', 'foi', 'produtivo'],\n ['hojé', 'foi', 'pura', 'alegria'],\n ['Hoje', 'é', 'o', 'melhor', 'dia', 'da', 'minha', 'vida'],\n ['estou', 'felizao'],\n ['feliz'],\n ['feliz', 'demais'],\n ['pura', 'felicidade'],\n ['mais', 'feliz', 'agora'],\n ['Por', 'causa', 'do', 'corona', 'virus'],\n ['como', 'você', 'se', 'adapta', 'ao', 'isolamento', '?'],\n ['como', 'você', 'está', 'nesse', 'isolamento', '?'],\n ['e', 'o', 'isolamento', '?'],\n ['como', 'me', 'adaptar', 'ao', 'isolamento', '?'],\n ['como', 'ficar', 'bem', 'com', 'esse', 'isolamento', '?'],\n ['está', 'de', 'quarentena', '?'],\n ['e', 'a', 'quarentena', '?'],\n ['você', 'está', 'trabalhando', 'Home', 'Office', '?'],\n ['quando', 'vai', 'acabar', 'o', 'isolamento', '?'],\n ['não', 'aguento', 'mais', 'ficar', 'em', 'casa'],\n ['estou', 'preso', 'dentro', 'de', 'casa'],\n ['o', 'que', 'você', 'sabe', 'sobre', 'relacionamentos', '?'],\n ['me', 'fale', 'sobre', 'relacionamento'],\n ['por', 'que', 'o', 'outro', 'é', 'complicado', '?'],\n ['é', 'dificil', 'se', 'relacionar', '?'],\n ['por', 'que', 'relacionamentos', 'são', 'complicados', '?'],\n ['por', 'que', 'se', 'envolver', 'é', 'dificil', '?'],\n ['por',\n  'que',\n  'se',\n  'envolver',\n  'com',\n  'o',\n  'proximo',\n  'é',\n  'complicado',\n  '?'],\n ['você', 'sabe', 'como', 'se', 'relacionar', '?'],\n ['não', 'gosto', 'de', 'me', 'relacionar'],\n ['meu', 'relacionamento', 'está', 'acabando'],\n ['meu', 'relacionamento', 'está', 'ruim'],\n ['nao', 'quero', 'ter', 'relacionamento'],\n ['e', 'o', 'futuro', '?'],\n ['o', 'que', 'você', 'espera', 'do', 'futuro', '?'],\n ['futuro'],\n ['me', 'fala', 'do', 'seu', 'futuro'],\n ['e', 'o', 'seu', 'futuro', '?'],\n ['como', 'você', 'ver', 'o', 'futuro'],\n ['como', 'sera', 'o', 'futuro', '?'],\n ['Esta', 'preparado', 'para', 'o', 'futuro', '?'],\n ['como', 'você', 'se', 'vê', 'em', '10', 'anos', '?'],\n ['Tem', 'planos', 'para', 'o', 'futuro', '?'],\n ['como', 'você', 'ver', 'o', 'mundo', '?'],\n ['e', 'o', 'mundo'],\n ['o', 'mundo', 'esta', 'um', 'caos'],\n ['o', 'que', 'acha', 'do', 'universo', '?'],\n ['como', 'você', 'vive', 'neste', 'mundo', '?'],\n ['como', 'você', 'ver', 'este', 'planeta', '?'],\n ['e', 'o', 'plante', 'terra'],\n ['o', 'mundo', 'vai', 'acabar'],\n ['não', 'gosto', 'do', 'mundo'],\n ['esse', 'mundão', 'é', 'grande']]"
          },
          "metadata": {}
        },
        {
          "output_type": "display_data",
          "data": {
            "text/plain": "['boas-vindas',\n 'ate-mais',\n 'dia',\n 'nome',\n 'triste',\n 'feliz',\n 'isolamento',\n 'relacionamento',\n 'futuro',\n 'mundo']"
          },
          "metadata": {}
        },
        {
          "output_type": "display_data",
          "data": {
            "text/plain": "['Oi',\n 'Como',\n 'você',\n 'está',\n 'Tem',\n 'alguém',\n 'ai',\n '?',\n 'Olá',\n 'Bom',\n 'dia',\n 'Boa',\n 'tarde',\n 'Boa',\n 'noite',\n 'Tudo',\n 'bem',\n '?',\n 'amigo',\n 'oi',\n 'amigo',\n 'olá',\n 'tchau',\n 'Até',\n 'mais',\n 'tenho',\n 'que',\n 'ir',\n 'Vou',\n 'embora',\n 'Tenha',\n 'um',\n 'bom',\n 'dia',\n 'depois',\n 'falamos',\n 'mais',\n 'presciso',\n 'ir',\n 'nos',\n 'falamos',\n 'depois',\n 'boa',\n 'noite',\n 'valeu',\n ',',\n 'até',\n 'mais',\n 'Obrigado',\n ',',\n 'fui',\n 'Estou',\n 'indo',\n 'embora',\n 'como',\n 'foi',\n 'o',\n 'dia',\n '?',\n 'e',\n 'o',\n 'seu',\n 'dia',\n '?',\n 'me',\n 'fala',\n ',',\n 'como',\n 'está',\n '?',\n 'como',\n 'está',\n 'indo',\n 'o',\n 'dia',\n '?',\n 'como',\n 'ta',\n 'indo',\n '?',\n 'eai',\n ',',\n 'como',\n 'está',\n '?',\n 'seu',\n 'dia',\n 'está',\n 'bom',\n '?',\n 'Como',\n 'você',\n 'está',\n 'hoje',\n 'Hoje',\n 'você',\n 'está',\n 'Ola',\n 'bot',\n ',',\n 'tudo',\n 'bem',\n '?',\n 'Qual',\n 'o',\n 'seu',\n 'nome',\n '?',\n 'Como',\n 'você',\n 'se',\n 'chama',\n '?',\n 'Seu',\n 'nome',\n '?',\n 'nome',\n '?',\n 'como',\n 'é',\n 'o',\n 'seu',\n 'nome',\n '?',\n 'fala',\n 'ai',\n ',',\n 'como',\n 'se',\n 'chama',\n '?',\n 'como',\n 'devo',\n 'te',\n 'chamar',\n '?',\n 'qual',\n 'é',\n 'mesmo',\n 'o',\n 'seu',\n 'nome',\n '?',\n 'como',\n 'você',\n 'é',\n 'chamado',\n 'como',\n 'devo',\n 'te',\n 'chamar',\n '?',\n 'como',\n 'é',\n 'chamada',\n '?',\n 'você',\n 'tem',\n 'nome',\n '?',\n 'estou',\n 'triste',\n 'não',\n 'estou',\n 'muito',\n 'legal',\n 'hoje',\n 'meu',\n 'dia',\n 'foi',\n 'pesado',\n 'não',\n 'to',\n 'legal',\n 'estou',\n 'mau',\n 'não',\n 'estou',\n 'muito',\n 'feliz',\n 'hoje',\n 'não',\n 'foi',\n 'um',\n 'bom',\n 'dia',\n 'estou',\n 'pra',\n 'baixo',\n 'estou',\n 'com',\n 'depressão',\n 'hoje',\n 'foi',\n 'difícil',\n 'esta',\n 'bem',\n 'difícil',\n 'estou',\n 'muito',\n 'feliz',\n 'estou',\n 'contente',\n 'meu',\n 'dia',\n 'foi',\n 'produtivo',\n 'hojé',\n 'foi',\n 'pura',\n 'alegria',\n 'Hoje',\n 'é',\n 'o',\n 'melhor',\n 'dia',\n 'da',\n 'minha',\n 'vida',\n 'estou',\n 'felizao',\n 'feliz',\n 'feliz',\n 'demais',\n 'pura',\n 'felicidade',\n 'mais',\n 'feliz',\n 'agora',\n 'Por',\n 'causa',\n 'do',\n 'corona',\n 'virus',\n 'como',\n 'você',\n 'se',\n 'adapta',\n 'ao',\n 'isolamento',\n '?',\n 'como',\n 'você',\n 'está',\n 'nesse',\n 'isolamento',\n '?',\n 'e',\n 'o',\n 'isolamento',\n '?',\n 'como',\n 'me',\n 'adaptar',\n 'ao',\n 'isolamento',\n '?',\n 'como',\n 'ficar',\n 'bem',\n 'com',\n 'esse',\n 'isolamento',\n '?',\n 'está',\n 'de',\n 'quarentena',\n '?',\n 'e',\n 'a',\n 'quarentena',\n '?',\n 'você',\n 'está',\n 'trabalhando',\n 'Home',\n 'Office',\n '?',\n 'quando',\n 'vai',\n 'acabar',\n 'o',\n 'isolamento',\n '?',\n 'não',\n 'aguento',\n 'mais',\n 'ficar',\n 'em',\n 'casa',\n 'estou',\n 'preso',\n 'dentro',\n 'de',\n 'casa',\n 'o',\n 'que',\n 'você',\n 'sabe',\n 'sobre',\n 'relacionamentos',\n '?',\n 'me',\n 'fale',\n 'sobre',\n 'relacionamento',\n 'por',\n 'que',\n 'o',\n 'outro',\n 'é',\n 'complicado',\n '?',\n 'é',\n 'dificil',\n 'se',\n 'relacionar',\n '?',\n 'por',\n 'que',\n 'relacionamentos',\n 'são',\n 'complicados',\n '?',\n 'por',\n 'que',\n 'se',\n 'envolver',\n 'é',\n 'dificil',\n '?',\n 'por',\n 'que',\n 'se',\n 'envolver',\n 'com',\n 'o',\n 'proximo',\n 'é',\n 'complicado',\n '?',\n 'você',\n 'sabe',\n 'como',\n 'se',\n 'relacionar',\n '?',\n 'não',\n 'gosto',\n 'de',\n 'me',\n 'relacionar',\n 'meu',\n 'relacionamento',\n 'está',\n 'acabando',\n 'meu',\n 'relacionamento',\n 'está',\n 'ruim',\n 'nao',\n 'quero',\n 'ter',\n 'relacionamento',\n 'e',\n 'o',\n 'futuro',\n '?',\n 'o',\n 'que',\n 'você',\n 'espera',\n 'do',\n 'futuro',\n '?',\n 'futuro',\n 'me',\n 'fala',\n 'do',\n 'seu',\n 'futuro',\n 'e',\n 'o',\n 'seu',\n 'futuro',\n '?',\n 'como',\n 'você',\n 'ver',\n 'o',\n 'futuro',\n 'como',\n 'sera',\n 'o',\n 'futuro',\n '?',\n 'Esta',\n 'preparado',\n 'para',\n 'o',\n 'futuro',\n '?',\n 'como',\n 'você',\n 'se',\n 'vê',\n 'em',\n '10',\n 'anos',\n '?',\n 'Tem',\n 'planos',\n 'para',\n 'o',\n 'futuro',\n '?',\n 'como',\n 'você',\n 'ver',\n 'o',\n 'mundo',\n '?',\n 'e',\n 'o',\n 'mundo',\n 'o',\n 'mundo',\n 'esta',\n 'um',\n 'caos',\n 'o',\n 'que',\n 'acha',\n 'do',\n 'universo',\n '?',\n 'como',\n 'você',\n 'vive',\n 'neste',\n 'mundo',\n '?',\n 'como',\n 'você',\n 'ver',\n 'este',\n 'planeta',\n '?',\n 'e',\n 'o',\n 'plante',\n 'terra',\n 'o',\n 'mundo',\n 'vai',\n 'acabar',\n 'não',\n 'gosto',\n 'do',\n 'mundo',\n 'esse',\n 'mundão',\n 'é',\n 'grande']"
          },
          "metadata": {}
        }
      ]
    },
    {
      "cell_type": "code",
      "metadata": {
        "id": "SjeziodWKza2",
        "colab_type": "code",
        "colab": {
          "base_uri": "https://localhost:8080/",
          "height": 173
        },
        "outputId": "6d5b07fa-9b3b-4948-824e-df39fba00584",
        "tags": []
      },
      "source": [
        "\n",
        "from nltk.corpus import stopwords\n",
        "nltk.download('stopwords')\n",
        "# precisamos definir o idioma que queremos recuperar as stopswords\n",
        "stops = stopwords.words('portuguese')\n",
        "stops[:5]\n",
        "\n",
        "from string import punctuation\n",
        "# Transformando punctuation em uma lista, e inserindo na lista das stops_words\n",
        "punctuation = list(punctuation)\n",
        "punctuation\n",
        "\n",
        "# Juntando as duas listas em uma só\n",
        "stops.extend(punctuation)\n",
        "stops\n",
        "\n",
        "def removeStopWords(words):\n",
        "        wordscustomizada = set(stops)\n",
        "        return [Word for Word in words if Word not in wordscustomizada]\n",
        "\n",
        "\n",
        "\n",
        "for pattern in intent[\"patterns\"]:\n",
        "    wrds = nltk.word_tokenize(pattern, language='portuguese')\n",
        "    palavras.extend(wrds)\n",
        "    sentencas.append(wrds)\n",
        "    saidas.append(tag)\n",
        "words= palavras\n",
        "novawords= removeStopWords(words)\n",
        "palavras=novawords\n",
        "print(\"\\n todas as palavras que estão no arquivo: \",words,\"\\n\")\n",
        "print(\"palavras consideradas uteis: \", palavras,\"\\n\")\n",
        "print(\"palavras que serão descartadas: \",stops)\n",
        "\n",
        "\n",
        ""
      ],
      "execution_count": 12,
      "outputs": [
        {
          "output_type": "stream",
          "name": "stdout",
          "text": "\n todas as palavras que estão no arquivo:  ['Oi', 'Como', 'você', 'está', 'Tem', 'alguém', 'ai', '?', 'Olá', 'Bom', 'dia', 'Boa', 'tarde', 'Boa', 'noite', 'Tudo', 'bem', '?', 'amigo', 'oi', 'amigo', 'olá', 'tchau', 'Até', 'mais', 'tenho', 'que', 'ir', 'Vou', 'embora', 'Tenha', 'um', 'bom', 'dia', 'depois', 'falamos', 'mais', 'presciso', 'ir', 'nos', 'falamos', 'depois', 'boa', 'noite', 'valeu', ',', 'até', 'mais', 'Obrigado', ',', 'fui', 'Estou', 'indo', 'embora', 'como', 'foi', 'o', 'dia', '?', 'e', 'o', 'seu', 'dia', '?', 'me', 'fala', ',', 'como', 'está', '?', 'como', 'está', 'indo', 'o', 'dia', '?', 'como', 'ta', 'indo', '?', 'eai', ',', 'como', 'está', '?', 'seu', 'dia', 'está', 'bom', '?', 'Como', 'você', 'está', 'hoje', 'Hoje', 'você', 'está', 'Ola', 'bot', ',', 'tudo', 'bem', '?', 'Qual', 'o', 'seu', 'nome', '?', 'Como', 'você', 'se', 'chama', '?', 'Seu', 'nome', '?', 'nome', '?', 'como', 'é', 'o', 'seu', 'nome', '?', 'fala', 'ai', ',', 'como', 'se', 'chama', '?', 'como', 'devo', 'te', 'chamar', '?', 'qual', 'é', 'mesmo', 'o', 'seu', 'nome', '?', 'como', 'você', 'é', 'chamado', 'como', 'devo', 'te', 'chamar', '?', 'como', 'é', 'chamada', '?', 'você', 'tem', 'nome', '?', 'estou', 'triste', 'não', 'estou', 'muito', 'legal', 'hoje', 'meu', 'dia', 'foi', 'pesado', 'não', 'to', 'legal', 'estou', 'mau', 'não', 'estou', 'muito', 'feliz', 'hoje', 'não', 'foi', 'um', 'bom', 'dia', 'estou', 'pra', 'baixo', 'estou', 'com', 'depressão', 'hoje', 'foi', 'difícil', 'esta', 'bem', 'difícil', 'estou', 'muito', 'feliz', 'estou', 'contente', 'meu', 'dia', 'foi', 'produtivo', 'hojé', 'foi', 'pura', 'alegria', 'Hoje', 'é', 'o', 'melhor', 'dia', 'da', 'minha', 'vida', 'estou', 'felizao', 'feliz', 'feliz', 'demais', 'pura', 'felicidade', 'mais', 'feliz', 'agora', 'Por', 'causa', 'do', 'corona', 'virus', 'como', 'você', 'se', 'adapta', 'ao', 'isolamento', '?', 'como', 'você', 'está', 'nesse', 'isolamento', '?', 'e', 'o', 'isolamento', '?', 'como', 'me', 'adaptar', 'ao', 'isolamento', '?', 'como', 'ficar', 'bem', 'com', 'esse', 'isolamento', '?', 'está', 'de', 'quarentena', '?', 'e', 'a', 'quarentena', '?', 'você', 'está', 'trabalhando', 'Home', 'Office', '?', 'quando', 'vai', 'acabar', 'o', 'isolamento', '?', 'não', 'aguento', 'mais', 'ficar', 'em', 'casa', 'estou', 'preso', 'dentro', 'de', 'casa', 'o', 'que', 'você', 'sabe', 'sobre', 'relacionamentos', '?', 'me', 'fale', 'sobre', 'relacionamento', 'por', 'que', 'o', 'outro', 'é', 'complicado', '?', 'é', 'dificil', 'se', 'relacionar', '?', 'por', 'que', 'relacionamentos', 'são', 'complicados', '?', 'por', 'que', 'se', 'envolver', 'é', 'dificil', '?', 'por', 'que', 'se', 'envolver', 'com', 'o', 'proximo', 'é', 'complicado', '?', 'você', 'sabe', 'como', 'se', 'relacionar', '?', 'não', 'gosto', 'de', 'me', 'relacionar', 'meu', 'relacionamento', 'está', 'acabando', 'meu', 'relacionamento', 'está', 'ruim', 'nao', 'quero', 'ter', 'relacionamento', 'e', 'o', 'futuro', '?', 'o', 'que', 'você', 'espera', 'do', 'futuro', '?', 'futuro', 'me', 'fala', 'do', 'seu', 'futuro', 'e', 'o', 'seu', 'futuro', '?', 'como', 'você', 'ver', 'o', 'futuro', 'como', 'sera', 'o', 'futuro', '?', 'Esta', 'preparado', 'para', 'o', 'futuro', '?', 'como', 'você', 'se', 'vê', 'em', '10', 'anos', '?', 'Tem', 'planos', 'para', 'o', 'futuro', '?', 'como', 'você', 'ver', 'o', 'mundo', '?', 'e', 'o', 'mundo', 'o', 'mundo', 'esta', 'um', 'caos', 'o', 'que', 'acha', 'do', 'universo', '?', 'como', 'você', 'vive', 'neste', 'mundo', '?', 'como', 'você', 'ver', 'este', 'planeta', '?', 'e', 'o', 'plante', 'terra', 'o', 'mundo', 'vai', 'acabar', 'não', 'gosto', 'do', 'mundo', 'esse', 'mundão', 'é', 'grande', 'como', 'você', 'ver', 'o', 'mundo', '?', 'e', 'o', 'mundo', 'o', 'mundo', 'esta', 'um', 'caos', 'o', 'que', 'acha', 'do', 'universo', '?', 'como', 'você', 'vive', 'neste', 'mundo', '?', 'como', 'você', 'ver', 'este', 'planeta', '?', 'e', 'o', 'plante', 'terra', 'o', 'mundo', 'vai', 'acabar', 'não', 'gosto', 'do', 'mundo', 'esse', 'mundão', 'é', 'grande'] \n\npalavras consideradas uteis:  ['Oi', 'Como', 'Tem', 'alguém', 'ai', 'Olá', 'Bom', 'dia', 'Boa', 'tarde', 'Boa', 'noite', 'Tudo', 'bem', 'amigo', 'oi', 'amigo', 'olá', 'tchau', 'Até', 'ir', 'Vou', 'embora', 'Tenha', 'bom', 'dia', 'falamos', 'presciso', 'ir', 'falamos', 'boa', 'noite', 'valeu', 'Obrigado', 'Estou', 'indo', 'embora', 'dia', 'dia', 'fala', 'indo', 'dia', 'ta', 'indo', 'eai', 'dia', 'bom', 'Como', 'hoje', 'Hoje', 'Ola', 'bot', 'tudo', 'bem', 'Qual', 'nome', 'Como', 'chama', 'Seu', 'nome', 'nome', 'nome', 'fala', 'ai', 'chama', 'devo', 'chamar', 'nome', 'chamado', 'devo', 'chamar', 'chamada', 'nome', 'triste', 'legal', 'hoje', 'dia', 'pesado', 'to', 'legal', 'mau', 'feliz', 'hoje', 'bom', 'dia', 'pra', 'baixo', 'depressão', 'hoje', 'difícil', 'bem', 'difícil', 'feliz', 'contente', 'dia', 'produtivo', 'hojé', 'pura', 'alegria', 'Hoje', 'melhor', 'dia', 'vida', 'felizao', 'feliz', 'feliz', 'demais', 'pura', 'felicidade', 'feliz', 'agora', 'Por', 'causa', 'corona', 'virus', 'adapta', 'isolamento', 'nesse', 'isolamento', 'isolamento', 'adaptar', 'isolamento', 'ficar', 'bem', 'isolamento', 'quarentena', 'quarentena', 'trabalhando', 'Home', 'Office', 'vai', 'acabar', 'isolamento', 'aguento', 'ficar', 'casa', 'preso', 'dentro', 'casa', 'sabe', 'sobre', 'relacionamentos', 'fale', 'sobre', 'relacionamento', 'outro', 'complicado', 'dificil', 'relacionar', 'relacionamentos', 'complicados', 'envolver', 'dificil', 'envolver', 'proximo', 'complicado', 'sabe', 'relacionar', 'gosto', 'relacionar', 'relacionamento', 'acabando', 'relacionamento', 'ruim', 'nao', 'quero', 'ter', 'relacionamento', 'futuro', 'espera', 'futuro', 'futuro', 'fala', 'futuro', 'futuro', 'ver', 'futuro', 'sera', 'futuro', 'Esta', 'preparado', 'futuro', 'vê', '10', 'anos', 'Tem', 'planos', 'futuro', 'ver', 'mundo', 'mundo', 'mundo', 'caos', 'acha', 'universo', 'vive', 'neste', 'mundo', 'ver', 'planeta', 'plante', 'terra', 'mundo', 'vai', 'acabar', 'gosto', 'mundo', 'mundão', 'grande', 'ver', 'mundo', 'mundo', 'mundo', 'caos', 'acha', 'universo', 'vive', 'neste', 'mundo', 'ver', 'planeta', 'plante', 'terra', 'mundo', 'vai', 'acabar', 'gosto', 'mundo', 'mundão', 'grande'] \n\npalavras que serão descartadas:  ['de', 'a', 'o', 'que', 'e', 'é', 'do', 'da', 'em', 'um', 'para', 'com', 'não', 'uma', 'os', 'no', 'se', 'na', 'por', 'mais', 'as', 'dos', 'como', 'mas', 'ao', 'ele', 'das', 'à', 'seu', 'sua', 'ou', 'quando', 'muito', 'nos', 'já', 'eu', 'também', 'só', 'pelo', 'pela', 'até', 'isso', 'ela', 'entre', 'depois', 'sem', 'mesmo', 'aos', 'seus', 'quem', 'nas', 'me', 'esse', 'eles', 'você', 'essa', 'num', 'nem', 'suas', 'meu', 'às', 'minha', 'numa', 'pelos', 'elas', 'qual', 'nós', 'lhe', 'deles', 'essas', 'esses', 'pelas', 'este', 'dele', 'tu', 'te', 'vocês', 'vos', 'lhes', 'meus', 'minhas', 'teu', 'tua', 'teus', 'tuas', 'nosso', 'nossa', 'nossos', 'nossas', 'dela', 'delas', 'esta', 'estes', 'estas', 'aquele', 'aquela', 'aqueles', 'aquelas', 'isto', 'aquilo', 'estou', 'está', 'estamos', 'estão', 'estive', 'esteve', 'estivemos', 'estiveram', 'estava', 'estávamos', 'estavam', 'estivera', 'estivéramos', 'esteja', 'estejamos', 'estejam', 'estivesse', 'estivéssemos', 'estivessem', 'estiver', 'estivermos', 'estiverem', 'hei', 'há', 'havemos', 'hão', 'houve', 'houvemos', 'houveram', 'houvera', 'houvéramos', 'haja', 'hajamos', 'hajam', 'houvesse', 'houvéssemos', 'houvessem', 'houver', 'houvermos', 'houverem', 'houverei', 'houverá', 'houveremos', 'houverão', 'houveria', 'houveríamos', 'houveriam', 'sou', 'somos', 'são', 'era', 'éramos', 'eram', 'fui', 'foi', 'fomos', 'foram', 'fora', 'fôramos', 'seja', 'sejamos', 'sejam', 'fosse', 'fôssemos', 'fossem', 'for', 'formos', 'forem', 'serei', 'será', 'seremos', 'serão', 'seria', 'seríamos', 'seriam', 'tenho', 'tem', 'temos', 'tém', 'tinha', 'tínhamos', 'tinham', 'tive', 'teve', 'tivemos', 'tiveram', 'tivera', 'tivéramos', 'tenha', 'tenhamos', 'tenham', 'tivesse', 'tivéssemos', 'tivessem', 'tiver', 'tivermos', 'tiverem', 'terei', 'terá', 'teremos', 'terão', 'teria', 'teríamos', 'teriam', '!', '\"', '#', '$', '%', '&', \"'\", '(', ')', '*', '+', ',', '-', '.', '/', ':', ';', '<', '=', '>', '?', '@', '[', '\\\\', ']', '^', '_', '`', '{', '|', '}', '~']\n[nltk_data] Downloading package stopwords to\n[nltk_data]     C:\\Users\\Usuario\\AppData\\Roaming\\nltk_data...\n[nltk_data]   Package stopwords is already up-to-date!\n"
        }
      ]
    },
    {
      "cell_type": "code",
      "metadata": {
        "id": "Zx4PJH45VOaO",
        "colab_type": "code",
        "outputId": "cc83aacd-34e4-4177-e3a6-1c7507a68eec",
        "colab": {
          "base_uri": "https://localhost:8080/",
          "height": 54
        },
        "tags": []
      },
      "source": [
        "# ingles\n",
        "#from nltk.stem.lancaster import LancasterStemmer\n",
        "#stemer = LancasterStemmer()\n",
        "\n",
        "from nltk.stem.rslp import RSLPStemmer\n",
        "stemer = RSLPStemmer()\n",
        "\n",
        "stemmed_words = [stemer.stem(w.lower()) for w in palavras]\n",
        "stemmed_words = sorted(list(set(stemmed_words)))\n",
        "print(stemmed_words)\n",
        "\n",
        "#display(stemmed_words, labels)"
      ],
      "execution_count": 13,
      "outputs": [
        {
          "output_type": "stream",
          "name": "stdout",
          "text": "['10', 'acab', 'ach', 'adapt', 'agor', 'aguent', 'ai', 'alegr', 'alguém', 'amig', 'ano', 'até', 'baix', 'bem', 'boa', 'bom', 'bot', 'cao', 'cas', 'caus', 'cham', 'com', 'complic', 'cont', 'cor', 'demal', 'dentr', 'depress', 'dev', 'dia', 'dificil', 'difícil', 'eai', 'emb', 'envolv', 'esper', 'est', 'fal', 'felic', 'feliz', 'feliza', 'fic', 'futur', 'gost', 'grand', 'hoj', 'hojé', 'hom', 'ind', 'ir', 'isol', 'legal', 'mau', 'melhor', 'mund', 'nao', 'ness', 'nest', 'noit', 'nom', 'obrig', 'offic', 'oi', 'ola', 'olá', 'outr', 'pes', 'pl', 'plan', 'planet', 'por', 'pra', 'prepar', 'pres', 'prescis', 'produ', 'prox', 'pur', 'qual', 'quarenten', 'quer', 'relac', 'relacion', 'ruim', 'sab', 'ser', 'seu', 'sobr', 'ta', 'tard', 'tchau', 'tem', 'tenh', 'ter', 'terr', 'to', 'trabalh', 'trist', 'tud', 'univers', 'vai', 'val', 'ver', 'vid', 'viru', 'viv', 'vou', 'vê']\n"
        }
      ]
    },
    {
      "cell_type": "code",
      "metadata": {
        "id": "PDglRNQsWC8R",
        "colab_type": "code",
        "outputId": "b9ec541f-85fc-47f2-a3c1-2ce5e4c3c667",
        "colab": {
          "base_uri": "https://localhost:8080/",
          "height": 54
        },
        "tags": []
      },
      "source": [
        "training = []\n",
        "output = []\n",
        "# criando um array preenchido com 0\n",
        "outputEmpty = [0 for _ in range(len(intencoes))]\n",
        "\n",
        "for x, frase in enumerate(sentencas):\n",
        "  bag = []\n",
        "  wds = [stemer.stem(k.lower()) for k in frase]\n",
        "  for w in stemmed_words:\n",
        "    if w in wds:\n",
        "      bag.append(1)\n",
        "    else:\n",
        "      bag.append(0)\n",
        "\n",
        "  outputRow = outputEmpty[:]\n",
        "  outputRow[intencoes.index(saidas[x])] = 1\n",
        "\n",
        "  training.append(bag)  \n",
        "  output.append(outputRow)\n",
        "\n",
        "print(output)"
      ],
      "execution_count": 14,
      "outputs": [
        {
          "output_type": "stream",
          "name": "stdout",
          "text": "[[1, 0, 0, 0, 0, 0, 0, 0, 0, 0], [1, 0, 0, 0, 0, 0, 0, 0, 0, 0], [1, 0, 0, 0, 0, 0, 0, 0, 0, 0], [1, 0, 0, 0, 0, 0, 0, 0, 0, 0], [1, 0, 0, 0, 0, 0, 0, 0, 0, 0], [1, 0, 0, 0, 0, 0, 0, 0, 0, 0], [1, 0, 0, 0, 0, 0, 0, 0, 0, 0], [1, 0, 0, 0, 0, 0, 0, 0, 0, 0], [1, 0, 0, 0, 0, 0, 0, 0, 0, 0], [1, 0, 0, 0, 0, 0, 0, 0, 0, 0], [1, 0, 0, 0, 0, 0, 0, 0, 0, 0], [0, 1, 0, 0, 0, 0, 0, 0, 0, 0], [0, 1, 0, 0, 0, 0, 0, 0, 0, 0], [0, 1, 0, 0, 0, 0, 0, 0, 0, 0], [0, 1, 0, 0, 0, 0, 0, 0, 0, 0], [0, 1, 0, 0, 0, 0, 0, 0, 0, 0], [0, 1, 0, 0, 0, 0, 0, 0, 0, 0], [0, 1, 0, 0, 0, 0, 0, 0, 0, 0], [0, 1, 0, 0, 0, 0, 0, 0, 0, 0], [0, 1, 0, 0, 0, 0, 0, 0, 0, 0], [0, 1, 0, 0, 0, 0, 0, 0, 0, 0], [0, 1, 0, 0, 0, 0, 0, 0, 0, 0], [0, 1, 0, 0, 0, 0, 0, 0, 0, 0], [0, 0, 1, 0, 0, 0, 0, 0, 0, 0], [0, 0, 1, 0, 0, 0, 0, 0, 0, 0], [0, 0, 1, 0, 0, 0, 0, 0, 0, 0], [0, 0, 1, 0, 0, 0, 0, 0, 0, 0], [0, 0, 1, 0, 0, 0, 0, 0, 0, 0], [0, 0, 1, 0, 0, 0, 0, 0, 0, 0], [0, 0, 1, 0, 0, 0, 0, 0, 0, 0], [0, 0, 1, 0, 0, 0, 0, 0, 0, 0], [0, 0, 1, 0, 0, 0, 0, 0, 0, 0], [0, 0, 0, 1, 0, 0, 0, 0, 0, 0], [0, 0, 0, 1, 0, 0, 0, 0, 0, 0], [0, 0, 0, 1, 0, 0, 0, 0, 0, 0], [0, 0, 0, 1, 0, 0, 0, 0, 0, 0], [0, 0, 0, 1, 0, 0, 0, 0, 0, 0], [0, 0, 0, 1, 0, 0, 0, 0, 0, 0], [0, 0, 0, 1, 0, 0, 0, 0, 0, 0], [0, 0, 0, 1, 0, 0, 0, 0, 0, 0], [0, 0, 0, 1, 0, 0, 0, 0, 0, 0], [0, 0, 0, 1, 0, 0, 0, 0, 0, 0], [0, 0, 0, 1, 0, 0, 0, 0, 0, 0], [0, 0, 0, 1, 0, 0, 0, 0, 0, 0], [0, 0, 0, 1, 0, 0, 0, 0, 0, 0], [0, 0, 0, 0, 1, 0, 0, 0, 0, 0], [0, 0, 0, 0, 1, 0, 0, 0, 0, 0], [0, 0, 0, 0, 1, 0, 0, 0, 0, 0], [0, 0, 0, 0, 1, 0, 0, 0, 0, 0], [0, 0, 0, 0, 1, 0, 0, 0, 0, 0], [0, 0, 0, 0, 1, 0, 0, 0, 0, 0], [0, 0, 0, 0, 1, 0, 0, 0, 0, 0], [0, 0, 0, 0, 1, 0, 0, 0, 0, 0], [0, 0, 0, 0, 1, 0, 0, 0, 0, 0], [0, 0, 0, 0, 1, 0, 0, 0, 0, 0], [0, 0, 0, 0, 1, 0, 0, 0, 0, 0], [0, 0, 0, 0, 0, 1, 0, 0, 0, 0], [0, 0, 0, 0, 0, 1, 0, 0, 0, 0], [0, 0, 0, 0, 0, 1, 0, 0, 0, 0], [0, 0, 0, 0, 0, 1, 0, 0, 0, 0], [0, 0, 0, 0, 0, 1, 0, 0, 0, 0], [0, 0, 0, 0, 0, 1, 0, 0, 0, 0], [0, 0, 0, 0, 0, 1, 0, 0, 0, 0], [0, 0, 0, 0, 0, 1, 0, 0, 0, 0], [0, 0, 0, 0, 0, 1, 0, 0, 0, 0], [0, 0, 0, 0, 0, 1, 0, 0, 0, 0], [0, 0, 0, 0, 0, 0, 1, 0, 0, 0], [0, 0, 0, 0, 0, 0, 1, 0, 0, 0], [0, 0, 0, 0, 0, 0, 1, 0, 0, 0], [0, 0, 0, 0, 0, 0, 1, 0, 0, 0], [0, 0, 0, 0, 0, 0, 1, 0, 0, 0], [0, 0, 0, 0, 0, 0, 1, 0, 0, 0], [0, 0, 0, 0, 0, 0, 1, 0, 0, 0], [0, 0, 0, 0, 0, 0, 1, 0, 0, 0], [0, 0, 0, 0, 0, 0, 1, 0, 0, 0], [0, 0, 0, 0, 0, 0, 1, 0, 0, 0], [0, 0, 0, 0, 0, 0, 1, 0, 0, 0], [0, 0, 0, 0, 0, 0, 1, 0, 0, 0], [0, 0, 0, 0, 0, 0, 0, 1, 0, 0], [0, 0, 0, 0, 0, 0, 0, 1, 0, 0], [0, 0, 0, 0, 0, 0, 0, 1, 0, 0], [0, 0, 0, 0, 0, 0, 0, 1, 0, 0], [0, 0, 0, 0, 0, 0, 0, 1, 0, 0], [0, 0, 0, 0, 0, 0, 0, 1, 0, 0], [0, 0, 0, 0, 0, 0, 0, 1, 0, 0], [0, 0, 0, 0, 0, 0, 0, 1, 0, 0], [0, 0, 0, 0, 0, 0, 0, 1, 0, 0], [0, 0, 0, 0, 0, 0, 0, 1, 0, 0], [0, 0, 0, 0, 0, 0, 0, 1, 0, 0], [0, 0, 0, 0, 0, 0, 0, 1, 0, 0], [0, 0, 0, 0, 0, 0, 0, 0, 1, 0], [0, 0, 0, 0, 0, 0, 0, 0, 1, 0], [0, 0, 0, 0, 0, 0, 0, 0, 1, 0], [0, 0, 0, 0, 0, 0, 0, 0, 1, 0], [0, 0, 0, 0, 0, 0, 0, 0, 1, 0], [0, 0, 0, 0, 0, 0, 0, 0, 1, 0], [0, 0, 0, 0, 0, 0, 0, 0, 1, 0], [0, 0, 0, 0, 0, 0, 0, 0, 1, 0], [0, 0, 0, 0, 0, 0, 0, 0, 1, 0], [0, 0, 0, 0, 0, 0, 0, 0, 1, 0], [0, 0, 0, 0, 0, 0, 0, 0, 0, 1], [0, 0, 0, 0, 0, 0, 0, 0, 0, 1], [0, 0, 0, 0, 0, 0, 0, 0, 0, 1], [0, 0, 0, 0, 0, 0, 0, 0, 0, 1], [0, 0, 0, 0, 0, 0, 0, 0, 0, 1], [0, 0, 0, 0, 0, 0, 0, 0, 0, 1], [0, 0, 0, 0, 0, 0, 0, 0, 0, 1], [0, 0, 0, 0, 0, 0, 0, 0, 0, 1], [0, 0, 0, 0, 0, 0, 0, 0, 0, 1], [0, 0, 0, 0, 0, 0, 0, 0, 0, 1], [0, 0, 0, 0, 0, 0, 0, 0, 0, 1], [0, 0, 0, 0, 0, 0, 0, 0, 0, 1], [0, 0, 0, 0, 0, 0, 0, 0, 0, 1], [0, 0, 0, 0, 0, 0, 0, 0, 0, 1], [0, 0, 0, 0, 0, 0, 0, 0, 0, 1], [0, 0, 0, 0, 0, 0, 0, 0, 0, 1], [0, 0, 0, 0, 0, 0, 0, 0, 0, 1], [0, 0, 0, 0, 0, 0, 0, 0, 0, 1], [0, 0, 0, 0, 0, 0, 0, 0, 0, 1], [0, 0, 0, 0, 0, 0, 0, 0, 0, 1]]\n"
        }
      ]
    },
    {
      "cell_type": "code",
      "metadata": {
        "id": "2hkalkU8ma5N",
        "colab_type": "code",
        "colab": {}
      },
      "source": [
        "training = np.array(training)\n",
        "output = np.array(output)"
      ],
      "execution_count": 15,
      "outputs": []
    },
    {
      "cell_type": "code",
      "metadata": {
        "id": "MawFx6hYtQGI",
        "colab_type": "code",
        "colab": {
          "base_uri": "https://localhost:8080/",
          "height": 440
        },
        "outputId": "14205484-5567-46ad-98db-7dd574bbace7",
        "tags": []
      },
      "source": [
        "import tflearn as tfl\n",
        "import tensorflow as tf\n",
        "\n",
        "# reiniciando os dados\n",
        "tf.reset_default_graph()\n",
        "\n",
        "# testar o modelo depois d mudar a quantidade de neuronios\n",
        "# acrescentar mais camadas ao modelo: tipo-> net.add\n",
        "\n",
        "# camada de entrada (do tamanho da quantidade de palavrqs)\n",
        "net = tfl.input_data(shape=[None, len(training[0])])\n",
        "# oito neuronios por camada oculta\n",
        "net = tfl.fully_connected(net, 8)\n",
        "#net = tfl.fully_connected(net, 8)\n",
        "#net = tfl.fully_connected(net, 4)\n",
        "# camada de saida (define quantidde de saidas é a quantidade de intents do arquivo)\n",
        "net = tfl.fully_connected(net, len(output[0]), activation=\"softmax\")\n",
        "# \n",
        "net = tfl.regression(net)\n",
        "\n",
        "# criando o modelo\n",
        "model = tfl.DNN(net)"
      ],
      "execution_count": 16,
      "outputs": [
        {
          "output_type": "stream",
          "name": "stdout",
          "text": "curses is not supported on this machine (please install/reinstall curses for an optimal experience)\nWARNING:tensorflow:From C:\\Users\\Usuario\\AppData\\Local\\Programs\\Python\\Python36\\lib\\site-packages\\tensorflow\\python\\framework\\op_def_library.py:263: colocate_with (from tensorflow.python.framework.ops) is deprecated and will be removed in a future version.\nInstructions for updating:\nColocations handled automatically by placer.\nWARNING:tensorflow:From C:\\Users\\Usuario\\AppData\\Local\\Programs\\Python\\Python36\\lib\\site-packages\\tflearn\\objectives.py:66: calling reduce_sum_v1 (from tensorflow.python.ops.math_ops) with keep_dims is deprecated and will be removed in a future version.\nInstructions for updating:\nkeep_dims is deprecated, use keepdims instead\nWARNING:tensorflow:From C:\\Users\\Usuario\\AppData\\Local\\Programs\\Python\\Python36\\lib\\site-packages\\tensorflow\\python\\ops\\math_ops.py:3066: to_int32 (from tensorflow.python.ops.math_ops) is deprecated and will be removed in a future version.\nInstructions for updating:\nUse tf.cast instead.\n"
        }
      ]
    },
    {
      "cell_type": "code",
      "metadata": {
        "id": "j9nCI69poNOj",
        "colab_type": "code",
        "outputId": "5703dccd-3acf-4112-ba70-29ae1a4b792d",
        "colab": {
          "base_uri": "https://localhost:8080/",
          "height": 119
        },
        "tags": []
      },
      "source": [
        "### mudei a epoch de 150 para 250 ################3\n",
        "model.fit(training, output, n_epoch=250, batch_size=8, show_metric=True)\n",
        "model.save(\"model.chatbot30G\")"
      ],
      "execution_count": 17,
      "outputs": [
        {
          "output_type": "stream",
          "name": "stdout",
          "text": "Training Step: 3749  | total loss: \u001b[1m\u001b[32m0.08790\u001b[0m\u001b[0m | time: 0.036s\n| Adam | epoch: 250 | loss: 0.08790 - acc: 0.9755 -- iter: 112/120\nTraining Step: 3750  | total loss: \u001b[1m\u001b[32m0.08104\u001b[0m\u001b[0m | time: 0.036s\n| Adam | epoch: 250 | loss: 0.08104 - acc: 0.9779 -- iter: 120/120\n--\nINFO:tensorflow:c:\\Users\\Usuario\\Desktop\\TrabalhoChatBot\\model.chatbot30G is not in all_model_checkpoint_paths. Manually adding it.\n"
        }
      ]
    },
    {
      "cell_type": "code",
      "metadata": {
        "id": "THnKr4ClUbhf",
        "colab_type": "code",
        "colab": {
          "base_uri": "https://localhost:8080/",
          "height": 697
        },
        "outputId": "815d8c94-1814-4df6-92ca-523a15f6c9ac"
      },
      "source": [
        "\n",
        "\n",
        "def bag_of_words(s, words):\n",
        "    bag = [0 for _ in range(len(words))]\n",
        "\n",
        "    s_words = nltk.word_tokenize(s)\n",
        "    s_words = [stemer.stem(word.lower()) for word in s_words]\n",
        "\n",
        "    for se in s_words:\n",
        "        for i, w in enumerate(words):\n",
        "            if w == se:\n",
        "                bag[i] = 1\n",
        "            \n",
        "    return np.array(bag)\n",
        "\n",
        "import random\n",
        "\n"
      ],
      "execution_count": 18,
      "outputs": []
    },
    {
      "cell_type": "code",
      "execution_count": 19,
      "metadata": {
        "tags": []
      },
      "outputs": [
        {
          "output_type": "stream",
          "name": "stdout",
          "text": "Aguarde um instante.....Estou formulando.......\n\nDiga alguma coisa: \n[[9.11397092e-06 1.96307110e-06 1.67872123e-02 9.78537858e-01\n  3.59609044e-06 1.46293985e-07 8.39258882e-06 1.20436714e-04\n  4.46820026e-03 6.30955692e-05]] maximo: 0.97853786\nAguarde um instante.....Estou formulando.......\n\nDiga alguma coisa: \nAguarde um instante.....Estou formulando.......\n\n"
        },
        {
          "output_type": "error",
          "ename": "UnboundLocalError",
          "evalue": "local variable 'frase' referenced before assignment",
          "traceback": [
            "\u001b[1;31m---------------------------------------------------------------------------\u001b[0m",
            "\u001b[1;31mUnboundLocalError\u001b[0m                         Traceback (most recent call last)",
            "\u001b[1;32m<ipython-input-19-e073686de845>\u001b[0m in \u001b[0;36m<module>\u001b[1;34m\u001b[0m\n\u001b[0;32m     75\u001b[0m               \u001b[0mOnline\u001b[0m \u001b[1;33m=\u001b[0m \u001b[1;32mFalse\u001b[0m\u001b[1;33m\u001b[0m\u001b[1;33m\u001b[0m\u001b[0m\n\u001b[0;32m     76\u001b[0m \u001b[1;33m\u001b[0m\u001b[0m\n\u001b[1;32m---> 77\u001b[1;33m \u001b[0mchat\u001b[0m\u001b[1;33m(\u001b[0m\u001b[1;33m)\u001b[0m\u001b[1;33m\u001b[0m\u001b[1;33m\u001b[0m\u001b[0m\n\u001b[0m\u001b[0;32m     78\u001b[0m \u001b[1;33m\u001b[0m\u001b[0m\n\u001b[0;32m     79\u001b[0m \u001b[1;33m\u001b[0m\u001b[0m\n",
            "\u001b[1;32m<ipython-input-19-e073686de845>\u001b[0m in \u001b[0;36mchat\u001b[1;34m()\u001b[0m\n\u001b[0;32m     55\u001b[0m     \u001b[0mOnline\u001b[0m \u001b[1;33m=\u001b[0m \u001b[1;32mTrue\u001b[0m\u001b[1;33m\u001b[0m\u001b[1;33m\u001b[0m\u001b[0m\n\u001b[0;32m     56\u001b[0m     \u001b[1;32mwhile\u001b[0m \u001b[0mOnline\u001b[0m\u001b[1;33m:\u001b[0m\u001b[1;33m\u001b[0m\u001b[1;33m\u001b[0m\u001b[0m\n\u001b[1;32m---> 57\u001b[1;33m         \u001b[0minp\u001b[0m \u001b[1;33m=\u001b[0m \u001b[0mouvir_microfone\u001b[0m\u001b[1;33m(\u001b[0m\u001b[1;33m)\u001b[0m\u001b[1;33m\u001b[0m\u001b[1;33m\u001b[0m\u001b[0m\n\u001b[0m\u001b[0;32m     58\u001b[0m         \u001b[0mbag_usuario\u001b[0m \u001b[1;33m=\u001b[0m \u001b[0mbag_of_words\u001b[0m\u001b[1;33m(\u001b[0m\u001b[0minp\u001b[0m\u001b[1;33m,\u001b[0m \u001b[0mstemmed_words\u001b[0m\u001b[1;33m)\u001b[0m\u001b[1;33m\u001b[0m\u001b[1;33m\u001b[0m\u001b[0m\n\u001b[0;32m     59\u001b[0m         \u001b[0mresults\u001b[0m \u001b[1;33m=\u001b[0m \u001b[0mmodel\u001b[0m\u001b[1;33m.\u001b[0m\u001b[0mpredict\u001b[0m\u001b[1;33m(\u001b[0m\u001b[1;33m[\u001b[0m\u001b[0mbag_usuario\u001b[0m\u001b[1;33m]\u001b[0m\u001b[1;33m)\u001b[0m\u001b[1;33m\u001b[0m\u001b[1;33m\u001b[0m\u001b[0m\n",
            "\u001b[1;32m<ipython-input-19-e073686de845>\u001b[0m in \u001b[0;36mouvir_microfone\u001b[1;34m()\u001b[0m\n\u001b[0;32m     37\u001b[0m \u001b[1;33m\u001b[0m\u001b[0m\n\u001b[0;32m     38\u001b[0m \u001b[1;33m\u001b[0m\u001b[0m\n\u001b[1;32m---> 39\u001b[1;33m     \u001b[1;32mreturn\u001b[0m \u001b[0mfrase\u001b[0m\u001b[1;33m\u001b[0m\u001b[1;33m\u001b[0m\u001b[0m\n\u001b[0m\u001b[0;32m     40\u001b[0m \u001b[1;33m\u001b[0m\u001b[0m\n\u001b[0;32m     41\u001b[0m \u001b[1;33m\u001b[0m\u001b[0m\n",
            "\u001b[1;31mUnboundLocalError\u001b[0m: local variable 'frase' referenced before assignment"
          ]
        }
      ],
      "source": [
        "import speech_recognition as sr\n",
        "from googletrans import Translator\n",
        "import os\n",
        "\n",
        "from gtts import gTTS\n",
        "from playsound import playsound\n",
        "from pyaudio import PyAudio\n",
        "\n",
        "#Funcao responsavel por falar \n",
        "def cria_audio(text):\n",
        "  tts = gTTS(text,lang=\"pt-br\")\n",
        "  #Salva o arquivo de audio\n",
        "  tts.save('C:/Users/Usuario/Desktop/TrabalhoChatBot/text.mp3')\n",
        "  print(\"Aguarde um instante.....Estou formulando.......\\n\")\n",
        "  #Da play ao audio\n",
        "  playsound('C:/Users/Usuario/Desktop/TrabalhoChatBot/text.mp3') \n",
        "  #remove o ultimo audio\n",
        "  os.remove('C:/Users/Usuario/Desktop/TrabalhoChatBot/text.mp3')\n",
        "\n",
        "\n",
        "#Funcao responsavel por ouvir e reconhecer a fala\n",
        "def ouvir_microfone():\n",
        "    #Habilita o microfone para ouvir o usuario\n",
        "    microfone = sr.Recognizer()\n",
        "  \n",
        "    with sr.Microphone() as source:\n",
        "        microfone.adjust_for_ambient_noise(source)\n",
        "        print(\"Diga alguma coisa: \")\n",
        "        audio = microfone.listen(source)\n",
        "\n",
        "    try:\n",
        "      frase = microfone.recognize_google(audio, language='pt-BR')\n",
        "    \n",
        "    \n",
        "    except sr.UnknownValueError:\n",
        "       cria_audio(\"Desculpe, mas não pude compreender o que foi dito!. por isso vou me desligar!\")\n",
        "     \n",
        "    \n",
        "    return frase    \n",
        "    \n",
        "\n",
        "import random\n",
        "#definir a capacidade de respostas\n",
        "def respostaInvalida(probabilidades):\n",
        "  maximo =probabilidades.max()\n",
        "  print(probabilidades, 'maximo:', maximo)\n",
        "  #se a maior probabilidade < 30\n",
        "  if maximo < 0.30:\n",
        "    return True\n",
        "  else:\n",
        "    return False\n",
        "\n",
        "def chat():\n",
        "    cria_audio(\"olá!. Sou o sua amiga virtual. Vamos conversar?!\")\n",
        "    Online = True\n",
        "    while Online:\n",
        "        inp = ouvir_microfone()\n",
        "        bag_usuario = bag_of_words(inp, stemmed_words)\n",
        "        results = model.predict([bag_usuario])\n",
        "        duvida = respostaInvalida(results)\n",
        "        if (duvida == True):\n",
        "          cria_audio(\"Desculpe amigo, não sei responder a essa pergunta. Por favor, pergunte-me de outra forma. \")\n",
        "        else:\n",
        "          results_index = np.argmax(results)\n",
        "          tag = intencoes[results_index]\n",
        "          # chamar a funcao criada abaixo\n",
        "          for tg in data[\"intents\"]:\n",
        "              if tg['tag'] == tag:\n",
        "                  responses = tg['responses']\n",
        "\n",
        "          cria_audio(random.choice(responses))\n",
        "\n",
        "          if tag == \"ate-mais\":\n",
        "              cria_audio(random.choice(responses))\n",
        "              Online = False\n",
        "\n",
        "chat()\n",
        "\n",
        "\n"
      ]
    },
    {
      "cell_type": "code",
      "execution_count": 40,
      "metadata": {
        "tags": []
      },
      "outputs": [
        {
          "output_type": "stream",
          "name": "stdout",
          "text": "Oi\n[[9.7941256e-01 5.5887899e-03 1.1633812e-03 1.5184315e-04 6.6700978e-03\n  1.1401881e-03 2.6276424e-03 3.4674411e-04 2.5798532e-03 3.1874789e-04]] maximo: 0.97941256\nErro ao enviar media Message: element not interactable\n  (Session info: chrome=83.0.4103.106)\n\nE o futuro\n[[1.0558537e-02 1.6896808e-04 8.0651953e-04 3.6698754e-03 3.0942196e-05\n  5.6929165e-04 5.0089155e-05 8.3841411e-03 9.7571474e-01 4.6858047e-05]] maximo: 0.97571474\nErro ao enviar media Message: stale element reference: element is not attached to the page document\n  (Session info: chrome=83.0.4103.106)\n\nE o mundo\n[[8.3890109e-04 6.2791549e-04 1.3420958e-04 1.8353881e-03 1.7500190e-03\n  9.5676770e-04 3.1838499e-03 6.9400161e-03 1.3825897e-04 9.8359472e-01]] maximo: 0.9835947\nErro ao enviar media Message: element not interactable\n  (Session info: chrome=83.0.4103.106)\n\nE o isolamenti\n[[0.2711971  0.2631071  0.03982913 0.02419883 0.05458547 0.09247717\n  0.06374049 0.08298109 0.04661267 0.06127099]] maximo: 0.2711971\nEstou triste\n[[2.1936025e-02 4.8703968e-04 1.7647507e-02 1.7106936e-04 9.4797212e-01\n  8.3798375e-03 2.8297964e-03 1.8114453e-06 4.0920258e-05 5.3393934e-04]] maximo: 0.9479721\nE o isolamento\n[[7.3207961e-03 3.8427114e-03 3.7516016e-04 5.2425626e-04 3.3941625e-03\n  7.5865677e-04 9.8000503e-01 8.9439703e-04 1.2439104e-04 2.7603968e-03]] maximo: 0.980005\nErro ao enviar media Message: element not interactable\n  (Session info: chrome=83.0.4103.106)\n\nTenho que ir\n[[5.2575000e-05 9.9787629e-01 5.8347682e-06 1.7274810e-07 4.4650405e-06\n  9.8059431e-04 4.4017881e-05 1.0288891e-03 1.0470256e-06 6.1904757e-06]] maximo: 0.9978763\nErro ao enviar media Message: stale element reference: element is not attached to the page document\n  (Session info: chrome=83.0.4103.106)\n\n"
        }
      ],
      "source": [
        "############ respondendo mensagens whatsapp\n",
        "\n",
        "import speech_recognition as sr\n",
        "from googletrans import Translator\n",
        "import os\n",
        "\n",
        "from gtts import gTTS\n",
        "from playsound import playsound\n",
        "from pyaudio import PyAudio\n",
        "import random\n",
        "\n",
        "def respostaInvalida(probabilidades):\n",
        "  maximo =probabilidades.max()\n",
        "  print(probabilidades, 'maximo:', maximo)\n",
        "  #se a maior probabilidade < 30\n",
        "  if maximo < 0.30:\n",
        "    return True\n",
        "  else:\n",
        "    return False\n",
        "\n",
        "\n",
        "def envia_msg(msg):\n",
        "    #\"\"\" Envia uma mensagem para a conversa aberta \"\"\"\n",
        "    try:\n",
        "        time.sleep(2)\n",
        "        # Seleciona acaixa de mensagem\n",
        "        caixa_de_mensagem = driver.find_element_by_xpath('//*[@id=\"main\"]/footer/div[1]/div[2]/div/div[2]')\n",
        "        # Digita a mensagem\n",
        "        caixa_de_mensagem.send_keys(msg)\n",
        "        time.sleep(1)\n",
        "        # Seleciona botão enviar\n",
        "        botao_enviar = driver.find_element_by_xpath('//*[@id=\"app\"]/div/div/div[2]/div[2]/span/div/span/div/div/div[2]/span/div/div')\n",
        "        driver.execute_script(\"arguments[0].click();\", botao_enviar)\n",
        "        # Envia msg\n",
        "        botao_enviar.click()\n",
        "        botao_enviar.click()\n",
        "\n",
        "        time.sleep(2)\n",
        "    except Exception as e:\n",
        "        print(\"Erro ao enviar msg\", e)\n",
        "\n",
        "\n",
        "#### retorna a utima mensagem ###############\n",
        "\n",
        "def utima_mensagem():\n",
        "        texto = ''\n",
        "        cont = 0\n",
        "        while texto == '' and cont < 100:\n",
        "            time.sleep(2)\n",
        "            #Vamos setar todos as mensagens no grupo.\n",
        "            post = driver.find_elements_by_class_name('_2hqOq')\n",
        "            #Vamos pegar o índice da última conversa.\n",
        "            ultimo = len(post) - 1\n",
        "            #Vamos pegar o  texto da última conversa e retornar.\n",
        "            cont += 1\n",
        "            try:\n",
        "                texto = post[ultimo].find_element_by_class_name('copyable-text').text\n",
        "                print(texto)\n",
        "            except:\n",
        "                texto = '' \n",
        "        return texto    \n",
        "\n",
        "\n",
        "####### função q vai enviar o audio #########\n",
        "\n",
        "def envia_media(text,fileToSend):\n",
        "    tts = gTTS(text,lang=\"pt-br\")\n",
        "    #Salva o arquivo de audio\n",
        "    tts.save('C:/Users/Usuario/Desktop/TrabalhoChatBot/text.mp3')\n",
        "        \n",
        "        #\"\"\" Envia media \"\"\"\n",
        "    try:\n",
        "        # Clica no botão adicionar\n",
        "        driver.find_element_by_css_selector(\"span[data-icon='clip']\").click()\n",
        "        # Seleciona input\n",
        "        attach = driver.find_element_by_css_selector(\"input[type='file']\")\n",
        "        # Adiciona arquivo\n",
        "        fileToSend = 'C:/Users/Usuario/Desktop/TrabalhoChatBot/text.mp3'\n",
        "        attach.send_keys(fileToSend) ###\n",
        "        time.sleep(1)\n",
        "        # Seleciona botão enviar\n",
        "        send = driver.find_element_by_xpath('//*[@id=\"app\"]/div/div/div[2]/div[2]/span/div/span/div/div/div[2]/span/div/div')\n",
        "        #send = driver.find_element_by_xpath(\"//div[contains(@class, 'yavlE')]\")\n",
        "        # Clica no botão enviar\n",
        "        send.click()\n",
        "        send.click()\n",
        "        time.sleep(3)\n",
        "        os.remove('C:/Users/Usuario/Desktop/TrabalhoChatBot/text.mp3')\n",
        "    except Exception as e:\n",
        "        print(\"Erro ao enviar media\", e)\n",
        "\n",
        "\n",
        "### abre a conversa com o contato #####\n",
        "\n",
        "contato_list = []\n",
        "\n",
        "contato_list.append(input(\" escolha contato: \\n\"))\n",
        "\n",
        "driver = webdriver.Chrome('C:/Users/Usuario/Desktop/7 semestre/tecnologia emergentes/chromedriver.exe')\n",
        "driver.get('https://web.whatsapp.com/')\n",
        "time.sleep(15)\n",
        "\n",
        "for usuario in contato_list:\n",
        "    try:\n",
        "        # Select for the title having user name\n",
        "        user = driver.find_element_by_xpath('//span[@title=\"{}\"]'.format(usuario))\n",
        "        user.click()\n",
        "    except NoSuchElementException as se:\n",
        "        new_chat(usuario)\n",
        "# _______________________________________________________###\n",
        "\n",
        "def whatsappchat():\n",
        "     \n",
        "    envia_media(\"olá!. Sou o sua amiga virtual. Vamos conversar?!\",'C:/Users/Usuario/Desktop/TrabalhoChatBot/text.mp3')\n",
        "    time.sleep(6)\n",
        "    Online = True\n",
        "    while Online:\n",
        "        inp = utima_mensagem()\n",
        "        if inp == '':\n",
        "            tag = \"ate-mais\"\n",
        "            responses = [\"Tiau, beijos\"]\n",
        "        \n",
        "        else:\n",
        "            time.sleep(6)\n",
        "            bag_usuario = bag_of_words(inp, stemmed_words)\n",
        "            results = model.predict([bag_usuario])\n",
        "            duvida = respostaInvalida(results)\n",
        "            if (duvida == True):\n",
        "                envia_media(\"Desculpe amigo, não sei responder a essa pergunta. Por favor, pergunte-me de outra forma.\", 'C:/Users/Usuario/Desktop/TrabalhoChatBot/text.mp3')\n",
        "                time.sleep(5)\n",
        "            else:\n",
        "                results_index = np.argmax(results)\n",
        "                tag = intencoes[results_index]\n",
        "                # chamar a funcao criada abaixo\n",
        "                for tg in data[\"intents\"]:\n",
        "                    if tg['tag'] == tag:\n",
        "                        responses = tg['responses']\n",
        "\n",
        "                envia_media(random.choice(responses),'C:/Users/Usuario/Desktop/TrabalhoChatBot/text.mp3')\n",
        "                time.sleep(5)\n",
        "            \n",
        "            if tag == \"ate-mais\":\n",
        "                envia_media(random.choice(responses),'C:/Users/Usuario/Desktop/TrabalhoChatBot/text.mp3')\n",
        "                Online = False\n",
        "                driver.close()\n",
        "\n",
        "\n",
        "whatsappchat()"
      ]
    },
    {
      "cell_type": "code",
      "execution_count": null,
      "metadata": {},
      "outputs": [],
      "source": []
    }
  ],
  "metadata": {
    "colab": {
      "name": "EX5_TecnologiasEmergentes_ChatbotML.ipynb",
      "provenance": [],
      "collapsed_sections": [],
      "toc_visible": true
    },
    "kernelspec": {
      "name": "python36564bitd7b1da1ccfc94dc0a13fd95a54959a6b",
      "display_name": "Python 3.6.5 64-bit"
    }
  },
  "nbformat": 4,
  "nbformat_minor": 0
}